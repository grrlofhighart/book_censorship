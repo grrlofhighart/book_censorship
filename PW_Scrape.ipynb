{
 "cells": [
  {
   "cell_type": "code",
   "execution_count": null,
   "metadata": {},
   "outputs": [],
   "source": [
    "#Import all required Python libraries/modules\n",
    "#Requests will be used for fetching data\n",
    "import requests\n",
    "#Pandas will be used for manipulating the data\n",
    "import pandas as pd\n",
    "#bs4 will be used for webscraping\n",
    "import bs4\n",
    "#Numpy will be used for arrays and computations\n",
    "import numpy as np\n",
    "#Time and Random will be used to create delays when webscraping a series of pages\n",
    "from time import sleep\n",
    "from random import randint\n",
    "# sqlite3 for storage of the dataset\n",
    "import sqlite3\n",
    "from contextlib import closing\n",
    "from io import StringIO"
   ]
  },
  {
   "cell_type": "code",
   "execution_count": null,
   "metadata": {},
   "outputs": [],
   "source": [
    "# Setup SQLite Database\n",
    "database = 'Book_DB.db'\n",
    "conn = sqlite3.connect(database)\n",
    "c = conn.cursor()"
   ]
  },
  {
   "cell_type": "code",
   "execution_count": null,
   "metadata": {},
   "outputs": [],
   "source": [
    "datearray = np.arange('2008-12-29', '2020-01-06', np.timedelta64(7,'D'), dtype='datetime64')\n",
    "#test array\n",
    "print(datearray)"
   ]
  },
  {
   "cell_type": "code",
   "execution_count": null,
   "metadata": {},
   "outputs": [],
   "source": [
    "# Loop through the links\n",
    "for ds in datearray:\n",
    "    try:\n",
    "        # Initiate request\n",
    "        source = ('https://www.publishersweekly.com/pw/nielsen/top100/' + (str(ds).replace(\"-\",\"\")) +'.html')\n",
    "        header = {\n",
    "        \"User-Agent\": \"Mozilla/5.0 (X11; Linux x86_64) AppleWebKit/537.36 (KHTML, like Gecko) Chrome/50.0.2661.75 Safari/537.36\",\n",
    "        \"X-Requested-With\": \"XMLHttpRequest\"\n",
    "        }\n",
    "        data = requests.get(source, headers=header).text\n",
    "        # Create soup\n",
    "        soup = bs4.BeautifulSoup(data, 'lxml')\n",
    "        # Isolate the block of data containing the table\n",
    "        block = soup.find('div',class_='nielsen-wrapper')\n",
    "\n",
    "        # Load the table\n",
    "        df = pd.read_html(StringIO(data), header=0)\n",
    "\n",
    "        # Create the DataFrame\n",
    "        pwlist = pd.concat(df)\n",
    "\n",
    "        # Drop empty columns\n",
    "        pwlist = pwlist.dropna(axis=1, how='all')\n",
    "\n",
    "        # Split data in Biographical Information column\n",
    "        title = pwlist['Bibliographical Information  (Click title for review)'].str.split(\"  +\",expand = True)\n",
    "        # Select columns to keep and assign to a value\n",
    "        title_keep = [0, 1]\n",
    "        # Recreate DataFrame containing keep column(s)\n",
    "        title = title[title_keep]\n",
    "        # Rename columns for simplification\n",
    "        title.columns = ['Title', 'Authors']\n",
    "\n",
    "        # Split data in Authors column\n",
    "        author = title['Authors'].str.split(\",\",expand = True)\n",
    "        # Select columns to keep and assign to a value\n",
    "        author_keep = [0]\n",
    "        # Recreate DataFrame containing keep column(s)\n",
    "        author = author[author_keep]\n",
    "        # Rename column for simplification\n",
    "        author.columns = ['Author']\n",
    "\n",
    "        # Split data in Units YTD column\n",
    "        units = pwlist['Units  2024 YTD'].str.split(' +', n=0, expand=True)\n",
    "        # Rename colunms for simplification\n",
    "        units.columns = ['Units Current', 'Units YTD']\n",
    "\n",
    "        # Join all DataFrames\n",
    "        pwlist = pd.concat([pwlist, title, author, units], axis=1)\n",
    "        # Drop duplicate columns (from splits)\n",
    "        pwlist.drop(columns=['Bibliographical Information  (Click title for review)', 'Units  2024 YTD', 'Authors'], inplace=True)\n",
    "        # Add column with week identifier\n",
    "        pwlist.insert(0, 'Week', ds, True)\n",
    "\n",
    "        # Export to database\n",
    "        pwlist.to_sql(name='PW_Bestsellers', con=conn, if_exists='append', index=False)\n",
    "\n",
    "        #add delay to scrape interval\n",
    "        sleep(randint(2,5))\n",
    "    except Exception:\n",
    "        pass\n",
    "\n"
   ]
  },
  {
   "cell_type": "code",
   "execution_count": null,
   "metadata": {},
   "outputs": [],
   "source": [
    "source = 'https://www.publishersweekly.com/pw/nielsen/top100/20231218.html'\n",
    "\n",
    "data = requests.get(source, headers=header).text\n",
    "# Create soup\n",
    "soup = bs4.BeautifulSoup(data, 'lxml')\n",
    "# Isolate the block of data containing the table\n",
    "block = soup.find('div',class_='nielsen-wrapper')\n",
    "\n",
    "# Load the table\n",
    "df = pd.read_html(StringIO(data), header=0)\n",
    "\n",
    "df"
   ]
  }
 ],
 "metadata": {
  "kernelspec": {
   "display_name": "Python 3",
   "language": "python",
   "name": "python3"
  },
  "language_info": {
   "codemirror_mode": {
    "name": "ipython",
    "version": 3
   },
   "file_extension": ".py",
   "mimetype": "text/x-python",
   "name": "python",
   "nbconvert_exporter": "python",
   "pygments_lexer": "ipython3",
   "version": "3.12.2"
  }
 },
 "nbformat": 4,
 "nbformat_minor": 2
}
